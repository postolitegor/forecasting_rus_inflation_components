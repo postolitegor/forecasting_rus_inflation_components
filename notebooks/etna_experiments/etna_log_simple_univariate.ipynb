{
  "cells": [
    {
      "cell_type": "code",
      "execution_count": null,
      "metadata": {},
      "outputs": [],
      "source": [
        "import pandas as pd\n",
        "import typing as tp\n",
        "\n",
        "from datetime import datetime\n",
        "from pathlib import Path\n",
        "from tqdm.auto import tqdm\n",
        "\n",
        "import sys\n",
        "lib_path = Path().absolute().parent.parent / 'lib'\n",
        "sys.path.insert(0, str(lib_path))\n",
        "import economica as econ\n",
        "import etna_utils\n",
        "\n",
        "pd.options.plotting.backend = \"matplotlib\"\n",
        "\n",
        "%load_ext autoreload\n",
        "%autoreload 2"
      ]
    },
    {
      "cell_type": "code",
      "execution_count": null,
      "metadata": {},
      "outputs": [],
      "source": [
        "if __name__ == '__main__':\n",
        "    # load data\n",
        "    mom_df = etna_utils.load_data_utils.load_cpi_mom()\n",
        "\n",
        "    # load pipelines to test\n",
        "    pipelines = etna_utils.univariate_models.univariate_models_args.load_univariate_pipelines()\n",
        "\n",
        "    # prepare ts_datasets to test\n",
        "    ts_datasets = etna_utils.prepare_data.prepare_univariate_datasets(mom_df)\n",
        "\n",
        "    # run experiments\n",
        "    etna_utils.backtest_utilities.run_pipes_mp(ts_datasets, pipelines)\n"
      ]
    }
  ],
  "metadata": {
    "colab": {
      "provenance": []
    },
    "kernelspec": {
      "display_name": "Python 3",
      "name": "python3"
    },
    "language_info": {
      "codemirror_mode": {
        "name": "ipython",
        "version": 3
      },
      "file_extension": ".py",
      "mimetype": "text/x-python",
      "name": "python",
      "nbconvert_exporter": "python",
      "pygments_lexer": "ipython3",
      "version": "3.10.6"
    }
  },
  "nbformat": 4,
  "nbformat_minor": 0
}
